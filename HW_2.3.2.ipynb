{
 "cells": [
  {
   "cell_type": "markdown",
   "id": "78d25efe",
   "metadata": {},
   "source": [
    "В этом задании вам необходимо использовать набор данных ad.csv.\n",
    "    1) Датасет содежит 2 столбца: объявление (A/B) и действие (0/1).\n",
    "    2) Вам необходимо сформулировать гипотезу, провести ее проверку \n",
    "    (пользуясь классическим подходом) и ответить на вопрос какое из объявлений лучше."
   ]
  },
  {
   "cell_type": "code",
   "execution_count": 10,
   "id": "5e635d7f",
   "metadata": {},
   "outputs": [
    {
     "data": {
      "text/html": [
       "<div>\n",
       "<style scoped>\n",
       "    .dataframe tbody tr th:only-of-type {\n",
       "        vertical-align: middle;\n",
       "    }\n",
       "\n",
       "    .dataframe tbody tr th {\n",
       "        vertical-align: top;\n",
       "    }\n",
       "\n",
       "    .dataframe thead th {\n",
       "        text-align: right;\n",
       "    }\n",
       "</style>\n",
       "<table border=\"1\" class=\"dataframe\">\n",
       "  <thead>\n",
       "    <tr style=\"text-align: right;\">\n",
       "      <th></th>\n",
       "      <th>ad_id</th>\n",
       "      <th>action</th>\n",
       "    </tr>\n",
       "  </thead>\n",
       "  <tbody>\n",
       "    <tr>\n",
       "      <th>0</th>\n",
       "      <td>B</td>\n",
       "      <td>1</td>\n",
       "    </tr>\n",
       "    <tr>\n",
       "      <th>1</th>\n",
       "      <td>B</td>\n",
       "      <td>1</td>\n",
       "    </tr>\n",
       "    <tr>\n",
       "      <th>2</th>\n",
       "      <td>A</td>\n",
       "      <td>0</td>\n",
       "    </tr>\n",
       "    <tr>\n",
       "      <th>3</th>\n",
       "      <td>B</td>\n",
       "      <td>0</td>\n",
       "    </tr>\n",
       "    <tr>\n",
       "      <th>4</th>\n",
       "      <td>A</td>\n",
       "      <td>1</td>\n",
       "    </tr>\n",
       "    <tr>\n",
       "      <th>...</th>\n",
       "      <td>...</td>\n",
       "      <td>...</td>\n",
       "    </tr>\n",
       "    <tr>\n",
       "      <th>1995</th>\n",
       "      <td>A</td>\n",
       "      <td>0</td>\n",
       "    </tr>\n",
       "    <tr>\n",
       "      <th>1996</th>\n",
       "      <td>A</td>\n",
       "      <td>0</td>\n",
       "    </tr>\n",
       "    <tr>\n",
       "      <th>1997</th>\n",
       "      <td>A</td>\n",
       "      <td>0</td>\n",
       "    </tr>\n",
       "    <tr>\n",
       "      <th>1998</th>\n",
       "      <td>A</td>\n",
       "      <td>1</td>\n",
       "    </tr>\n",
       "    <tr>\n",
       "      <th>1999</th>\n",
       "      <td>A</td>\n",
       "      <td>0</td>\n",
       "    </tr>\n",
       "  </tbody>\n",
       "</table>\n",
       "<p>2000 rows × 2 columns</p>\n",
       "</div>"
      ],
      "text/plain": [
       "     ad_id  action\n",
       "0        B       1\n",
       "1        B       1\n",
       "2        A       0\n",
       "3        B       0\n",
       "4        A       1\n",
       "...    ...     ...\n",
       "1995     A       0\n",
       "1996     A       0\n",
       "1997     A       0\n",
       "1998     A       1\n",
       "1999     A       0\n",
       "\n",
       "[2000 rows x 2 columns]"
      ]
     },
     "execution_count": 10,
     "metadata": {},
     "output_type": "execute_result"
    }
   ],
   "source": [
    "import pandas as pd\n",
    "\n",
    "df = pd.read_csv(\"c:\\_Files\\\\ad.csv\")\n",
    "df"
   ]
  },
  {
   "cell_type": "code",
   "execution_count": 17,
   "id": "f7a443cf",
   "metadata": {},
   "outputs": [
    {
     "data": {
      "text/html": [
       "<div>\n",
       "<style scoped>\n",
       "    .dataframe tbody tr th:only-of-type {\n",
       "        vertical-align: middle;\n",
       "    }\n",
       "\n",
       "    .dataframe tbody tr th {\n",
       "        vertical-align: top;\n",
       "    }\n",
       "\n",
       "    .dataframe thead th {\n",
       "        text-align: right;\n",
       "    }\n",
       "</style>\n",
       "<table border=\"1\" class=\"dataframe\">\n",
       "  <thead>\n",
       "    <tr style=\"text-align: right;\">\n",
       "      <th>ad_id</th>\n",
       "      <th>A</th>\n",
       "      <th>B</th>\n",
       "    </tr>\n",
       "    <tr>\n",
       "      <th>action</th>\n",
       "      <th></th>\n",
       "      <th></th>\n",
       "    </tr>\n",
       "  </thead>\n",
       "  <tbody>\n",
       "    <tr>\n",
       "      <th>0</th>\n",
       "      <td>696</td>\n",
       "      <td>628</td>\n",
       "    </tr>\n",
       "    <tr>\n",
       "      <th>1</th>\n",
       "      <td>304</td>\n",
       "      <td>372</td>\n",
       "    </tr>\n",
       "  </tbody>\n",
       "</table>\n",
       "</div>"
      ],
      "text/plain": [
       "ad_id     A    B\n",
       "action          \n",
       "0       696  628\n",
       "1       304  372"
      ]
     },
     "execution_count": 17,
     "metadata": {},
     "output_type": "execute_result"
    }
   ],
   "source": [
    "pd.crosstab(df['action'], df['ad_id'], df['action'], aggfunc = 'count')\n"
   ]
  },
  {
   "cell_type": "code",
   "execution_count": 21,
   "id": "e7eb2ae1",
   "metadata": {},
   "outputs": [
    {
     "name": "stdout",
     "output_type": "stream",
     "text": [
      "Статистика: 1.3561850486087832\n"
     ]
    }
   ],
   "source": [
    "table = pd.crosstab(df['action'], df['ad_id'], df['action'], aggfunc = 'count')\n",
    "\n",
    "from scipy.stats import fisher_exact\n",
    "stat, p = fisher_exact(table, alternative = 'greater')\n",
    "print(f\"Статистика: {stat}\")"
   ]
  },
  {
   "cell_type": "markdown",
   "id": "1c82957c",
   "metadata": {},
   "source": [
    "Гипотеза о равенстве частот отвергаетчя в пользу гипотезы о том, что объявление B выбирается чаще объявления A."
   ]
  },
  {
   "cell_type": "code",
   "execution_count": 22,
   "id": "38b8d44c",
   "metadata": {},
   "outputs": [
    {
     "name": "stdout",
     "output_type": "stream",
     "text": [
      "p-value: 0.000764995598660545\n"
     ]
    }
   ],
   "source": [
    "print(f'p-value: {p}')"
   ]
  },
  {
   "cell_type": "code",
   "execution_count": 23,
   "id": "0e9bb39c",
   "metadata": {},
   "outputs": [
    {
     "name": "stdout",
     "output_type": "stream",
     "text": [
      "Гипотеза о том, что объявления A и B выбираются с равной вероятностью отвергается\n"
     ]
    }
   ],
   "source": [
    "if p < 0.01:\n",
    "    print('Гипотеза о том, что объявления A и B выбираются с равной вероятностью отвергается')\n",
    "else:\n",
    "    print('Гипотеза о том, что объявления A и B выбираются с равной вероятностью не отвергается')"
   ]
  },
  {
   "cell_type": "code",
   "execution_count": 24,
   "id": "6d81773f",
   "metadata": {},
   "outputs": [
    {
     "data": {
      "text/html": [
       "<div>\n",
       "<style scoped>\n",
       "    .dataframe tbody tr th:only-of-type {\n",
       "        vertical-align: middle;\n",
       "    }\n",
       "\n",
       "    .dataframe tbody tr th {\n",
       "        vertical-align: top;\n",
       "    }\n",
       "\n",
       "    .dataframe thead th {\n",
       "        text-align: right;\n",
       "    }\n",
       "</style>\n",
       "<table border=\"1\" class=\"dataframe\">\n",
       "  <thead>\n",
       "    <tr style=\"text-align: right;\">\n",
       "      <th>action</th>\n",
       "      <th>0</th>\n",
       "      <th>1</th>\n",
       "    </tr>\n",
       "    <tr>\n",
       "      <th>ad_id</th>\n",
       "      <th></th>\n",
       "      <th></th>\n",
       "    </tr>\n",
       "  </thead>\n",
       "  <tbody>\n",
       "    <tr>\n",
       "      <th>A</th>\n",
       "      <td>696</td>\n",
       "      <td>304</td>\n",
       "    </tr>\n",
       "    <tr>\n",
       "      <th>B</th>\n",
       "      <td>628</td>\n",
       "      <td>372</td>\n",
       "    </tr>\n",
       "  </tbody>\n",
       "</table>\n",
       "</div>"
      ],
      "text/plain": [
       "action    0    1\n",
       "ad_id           \n",
       "A       696  304\n",
       "B       628  372"
      ]
     },
     "execution_count": 24,
     "metadata": {},
     "output_type": "execute_result"
    }
   ],
   "source": [
    "pd.crosstab(df['ad_id'], df['action'])"
   ]
  },
  {
   "cell_type": "code",
   "execution_count": 25,
   "id": "7c81a0e6",
   "metadata": {},
   "outputs": [
    {
     "data": {
      "text/html": [
       "<div>\n",
       "<style scoped>\n",
       "    .dataframe tbody tr th:only-of-type {\n",
       "        vertical-align: middle;\n",
       "    }\n",
       "\n",
       "    .dataframe tbody tr th {\n",
       "        vertical-align: top;\n",
       "    }\n",
       "\n",
       "    .dataframe thead th {\n",
       "        text-align: right;\n",
       "    }\n",
       "</style>\n",
       "<table border=\"1\" class=\"dataframe\">\n",
       "  <thead>\n",
       "    <tr style=\"text-align: right;\">\n",
       "      <th>action</th>\n",
       "      <th>0</th>\n",
       "      <th>1</th>\n",
       "    </tr>\n",
       "    <tr>\n",
       "      <th>ad_id</th>\n",
       "      <th></th>\n",
       "      <th></th>\n",
       "    </tr>\n",
       "  </thead>\n",
       "  <tbody>\n",
       "    <tr>\n",
       "      <th>A</th>\n",
       "      <td>0.348</td>\n",
       "      <td>0.152</td>\n",
       "    </tr>\n",
       "    <tr>\n",
       "      <th>B</th>\n",
       "      <td>0.314</td>\n",
       "      <td>0.186</td>\n",
       "    </tr>\n",
       "  </tbody>\n",
       "</table>\n",
       "</div>"
      ],
      "text/plain": [
       "action      0      1\n",
       "ad_id               \n",
       "A       0.348  0.152\n",
       "B       0.314  0.186"
      ]
     },
     "execution_count": 25,
     "metadata": {},
     "output_type": "execute_result"
    }
   ],
   "source": [
    "pd.crosstab(df['ad_id'], df['action'], normalize = True)"
   ]
  },
  {
   "cell_type": "code",
   "execution_count": 32,
   "id": "583b36bd",
   "metadata": {},
   "outputs": [
    {
     "name": "stdout",
     "output_type": "stream",
     "text": [
      "Разница между наблюдениями: 68\n",
      "Разница между пропорциями для 1000 примеров: 0.034\n",
      "Пропорции для 2-х групп: (0.304, 0.372)\n"
     ]
    }
   ],
   "source": [
    "N1 = 1000\n",
    "N2 = 1000\n",
    "p1 = 304 / N1\n",
    "p2 = 372 / N2\n",
    "\n",
    "print(f'Разница между наблюдениями: {372 - 304}')\n",
    "print(f'Разница между пропорциями для 1000 примеров: {0.186 - 0.152}')\n",
    "print(f'Пропорции для 2-х групп: {p1, p2}')"
   ]
  },
  {
   "cell_type": "markdown",
   "id": "c6392c42",
   "metadata": {},
   "source": [
    "H0: p2 = p1, или p2 - p1 = 0\n",
    "H1: p2 > p1"
   ]
  },
  {
   "cell_type": "code",
   "execution_count": 33,
   "id": "222aaffb",
   "metadata": {},
   "outputs": [
    {
     "data": {
      "text/plain": [
       "0.068"
      ]
     },
     "execution_count": 33,
     "metadata": {},
     "output_type": "execute_result"
    }
   ],
   "source": [
    "p2 - p1"
   ]
  },
  {
   "cell_type": "markdown",
   "id": "8de3a11e",
   "metadata": {},
   "source": [
    "Проверяем, разница в пропорциях существенно значима, или нет. Формулируем гипотезу. H0: вариант B лучше, чем вариант A. \n",
    "Находим разницу между средними и проверяем, пользуясь классическим подходом, какая из групп: A или B лучше.\n",
    "\n",
    "H0: p2 > p1, или что то же самое p2 - p1 > 0"
   ]
  },
  {
   "cell_type": "code",
   "execution_count": 34,
   "id": "663f51f7",
   "metadata": {},
   "outputs": [
    {
     "data": {
      "text/plain": [
       "0.068"
      ]
     },
     "execution_count": 34,
     "metadata": {},
     "output_type": "execute_result"
    }
   ],
   "source": [
    "p2 - p1"
   ]
  },
  {
   "cell_type": "code",
   "execution_count": 38,
   "id": "2e061a7c",
   "metadata": {},
   "outputs": [
    {
     "data": {
      "text/plain": [
       "0.338"
      ]
     },
     "execution_count": 38,
     "metadata": {},
     "output_type": "execute_result"
    }
   ],
   "source": [
    "import numpy as np\n",
    "import scipy.stats as stats\n",
    "\n",
    "p_hat = (304 + 372) / (N1 + N2)\n",
    "p_hat"
   ]
  },
  {
   "cell_type": "code",
   "execution_count": 41,
   "id": "b735e0a1",
   "metadata": {},
   "outputs": [
    {
     "data": {
      "text/plain": [
       "0.02115447943108031"
      ]
     },
     "execution_count": 41,
     "metadata": {},
     "output_type": "execute_result"
    }
   ],
   "source": [
    "var = p_hat * (1 - p_hat) * (1 / N1 + 1 / N2)\n",
    "se = np.sqrt(var)\n",
    "se"
   ]
  },
  {
   "cell_type": "markdown",
   "id": "ffdd9d2f",
   "metadata": {},
   "source": [
    "T-test, Т-Стьюдента. Вычисляем значение T-статистики. Какова вероятность в рамках нашего распеделения увидеть такое значение статистики или более экстремальное значение"
   ]
  },
  {
   "cell_type": "code",
   "execution_count": 43,
   "id": "fe136dd9",
   "metadata": {},
   "outputs": [
    {
     "data": {
      "text/plain": [
       "3.2144492244084213"
      ]
     },
     "execution_count": 43,
     "metadata": {},
     "output_type": "execute_result"
    }
   ],
   "source": [
    "t_score = (p2 - p1) / se\n",
    "t_score"
   ]
  },
  {
   "cell_type": "code",
   "execution_count": 48,
   "id": "d42642f2",
   "metadata": {},
   "outputs": [
    {
     "data": {
      "text/plain": [
       "0.022750131948179195"
      ]
     },
     "execution_count": 48,
     "metadata": {},
     "output_type": "execute_result"
    }
   ],
   "source": [
    "stats.norm.cdf(-2)"
   ]
  },
  {
   "cell_type": "code",
   "execution_count": 49,
   "id": "ae7be335",
   "metadata": {},
   "outputs": [
    {
     "data": {
      "text/plain": [
       "0.9640696808870742"
      ]
     },
     "execution_count": 49,
     "metadata": {},
     "output_type": "execute_result"
    }
   ],
   "source": [
    "stats.norm.cdf(1.8)"
   ]
  },
  {
   "cell_type": "code",
   "execution_count": 53,
   "id": "3450db2c",
   "metadata": {},
   "outputs": [
    {
     "data": {
      "text/plain": [
       "0.9993465248633937"
      ]
     },
     "execution_count": 53,
     "metadata": {},
     "output_type": "execute_result"
    }
   ],
   "source": [
    "stats.norm.cdf(t_score)"
   ]
  },
  {
   "cell_type": "code",
   "execution_count": 54,
   "id": "2c84d784",
   "metadata": {},
   "outputs": [
    {
     "data": {
      "text/plain": [
       "0.8267032464563329"
      ]
     },
     "execution_count": 54,
     "metadata": {},
     "output_type": "execute_result"
    }
   ],
   "source": [
    "stats.t.cdf(1,8)"
   ]
  },
  {
   "cell_type": "code",
   "execution_count": 58,
   "id": "85ff615b",
   "metadata": {},
   "outputs": [
    {
     "data": {
      "text/plain": [
       "0.9993361021619558"
      ]
     },
     "execution_count": 58,
     "metadata": {},
     "output_type": "execute_result"
    }
   ],
   "source": [
    "stats.t.cdf(t_score, df = N1 + N2 - 2)"
   ]
  },
  {
   "cell_type": "markdown",
   "id": "572137bf",
   "metadata": {},
   "source": [
    "Отклоняем гипотезу: p2 > p1"
   ]
  },
  {
   "cell_type": "code",
   "execution_count": 63,
   "id": "2b870858",
   "metadata": {},
   "outputs": [
    {
     "data": {
      "text/plain": [
       "0.000663897838044214"
      ]
     },
     "execution_count": 63,
     "metadata": {},
     "output_type": "execute_result"
    }
   ],
   "source": [
    "p_value = 1 - stats.t.cdf(t_score, df = N1 + N2 - 2)\n",
    "p_value"
   ]
  }
 ],
 "metadata": {
  "kernelspec": {
   "display_name": "Python 3 (ipykernel)",
   "language": "python",
   "name": "python3"
  },
  "language_info": {
   "codemirror_mode": {
    "name": "ipython",
    "version": 3
   },
   "file_extension": ".py",
   "mimetype": "text/x-python",
   "name": "python",
   "nbconvert_exporter": "python",
   "pygments_lexer": "ipython3",
   "version": "3.9.7"
  }
 },
 "nbformat": 4,
 "nbformat_minor": 5
}
